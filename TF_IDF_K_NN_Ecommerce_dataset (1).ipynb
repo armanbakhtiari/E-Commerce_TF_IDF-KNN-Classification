{
  "nbformat": 4,
  "nbformat_minor": 0,
  "metadata": {
    "colab": {
      "provenance": []
    },
    "kernelspec": {
      "name": "python3",
      "display_name": "Python 3"
    },
    "language_info": {
      "name": "python"
    }
  },
  "cells": [
    {
      "cell_type": "code",
      "execution_count": 82,
      "metadata": {
        "id": "oxvwU902Hn-E"
      },
      "outputs": [],
      "source": [
        "import pandas as pd\n",
        "import sklearn\n",
        "from sklearn.feature_extraction.text import TfidfVectorizer\n",
        "from sklearn.model_selection import train_test_split\n",
        "from sklearn.neighbors import KNeighborsClassifier\n",
        "from sklearn.pipeline import Pipeline\n",
        "from sklearn.metrics import classification_report\n",
        "from sklearn.ensemble import RandomForestClassifier"
      ]
    },
    {
      "cell_type": "code",
      "source": [
        "corp = [\"mind the protein sequence information but also discerns\",\n",
        "        \"architecture together with a continuous bag-of-words (CBOW) model based on generated metapaths to study the PPI predictions\",\n",
        "        \"large amounts of data for constructing primary\",\n",
        "        \"Moreover, compared with the significant amount\",\n",
        "        \"traditional machine learning algorithms such as\",\n",
        "        \"these traditional machine learning techniques lack the capacity of discovering hidden associations and extracting\",\n",
        "        \"In the unsupervised learning phase, we integrate the multi-modality features learned from Continuous Bag ofWord (CBOW)\",\n",
        "        \"which can be divided into three phases including a protein sequence preprocessing phase, an unsupervised learning phase, and a supervised learning phase\"]"
      ],
      "metadata": {
        "id": "X8PA9mJkcj21"
      },
      "execution_count": 2,
      "outputs": []
    },
    {
      "cell_type": "code",
      "source": [
        "TF_IDF_V = TfidfVectorizer()\n",
        "vectorized_text = TF_IDF_V.fit_transform(corp)\n",
        "print(vectorized_text)"
      ],
      "metadata": {
        "colab": {
          "base_uri": "https://localhost:8080/"
        },
        "id": "p06-NNh6dVc3",
        "outputId": "590554de-ba61-4e6f-815f-b4b36334df9a"
      },
      "execution_count": 3,
      "outputs": [
        {
          "output_type": "stream",
          "name": "stdout",
          "text": [
            "  (0, 20)\t0.3857648519373807\n",
            "  (0, 1)\t0.3857648519373807\n",
            "  (0, 12)\t0.3857648519373807\n",
            "  (0, 31)\t0.3857648519373807\n",
            "  (0, 55)\t0.3233010528565351\n",
            "  (0, 54)\t0.3233010528565351\n",
            "  (0, 61)\t0.21651848302712087\n",
            "  (0, 40)\t0.3857648519373807\n",
            "  (1, 51)\t0.2528000077905801\n",
            "  (1, 50)\t0.2528000077905801\n",
            "  (1, 57)\t0.2528000077905801\n",
            "  (1, 64)\t0.2528000077905801\n",
            "  (1, 39)\t0.2528000077905801\n",
            "  (1, 27)\t0.2528000077905801\n",
            "  (1, 47)\t0.2528000077905801\n",
            "  (1, 10)\t0.2528000077905801\n",
            "  (1, 42)\t0.2528000077905801\n",
            "  (1, 15)\t0.21186613624950398\n",
            "  (1, 71)\t0.2528000077905801\n",
            "  (1, 45)\t0.18282309219238047\n",
            "  (1, 9)\t0.21186613624950398\n",
            "  (1, 18)\t0.21186613624950398\n",
            "  (1, 70)\t0.21186613624950398\n",
            "  (1, 65)\t0.2528000077905801\n",
            "  (1, 6)\t0.2528000077905801\n",
            "  :\t:\n",
            "  (6, 48)\t0.2226064654176866\n",
            "  (6, 67)\t0.2226064654176866\n",
            "  (6, 29)\t0.26561543618066724\n",
            "  (6, 37)\t0.16842157039665318\n",
            "  (6, 15)\t0.2226064654176866\n",
            "  (6, 9)\t0.2226064654176866\n",
            "  (6, 18)\t0.2226064654176866\n",
            "  (6, 61)\t0.29816428853793314\n",
            "  (7, 59)\t0.2144762319783397\n",
            "  (7, 4)\t0.2144762319783397\n",
            "  (7, 52)\t0.2144762319783397\n",
            "  (7, 30)\t0.2144762319783397\n",
            "  (7, 49)\t0.2144762319783397\n",
            "  (7, 63)\t0.2144762319783397\n",
            "  (7, 33)\t0.2144762319783397\n",
            "  (7, 22)\t0.2144762319783397\n",
            "  (7, 11)\t0.2144762319783397\n",
            "  (7, 13)\t0.2144762319783397\n",
            "  (7, 69)\t0.2144762319783397\n",
            "  (7, 48)\t0.5392434634445809\n",
            "  (7, 67)\t0.17974782114819363\n",
            "  (7, 5)\t0.17974782114819363\n",
            "  (7, 37)\t0.27199039575379935\n",
            "  (7, 55)\t0.17974782114819363\n",
            "  (7, 54)\t0.17974782114819363\n"
          ]
        }
      ]
    },
    {
      "cell_type": "code",
      "source": [
        "print(TF_IDF_V.vocabulary_)"
      ],
      "metadata": {
        "colab": {
          "base_uri": "https://localhost:8080/"
        },
        "id": "iBJkRvGReafV",
        "outputId": "5dab50ab-6586-438b-cba3-d77796281506"
      },
      "execution_count": 4,
      "outputs": [
        {
          "output_type": "stream",
          "name": "stdout",
          "text": [
            "{'mind': 40, 'the': 61, 'protein': 54, 'sequence': 55, 'information': 31, 'but': 12, 'also': 1, 'discerns': 20, 'architecture': 6, 'together': 65, 'with': 70, 'continuous': 18, 'bag': 9, 'of': 45, 'words': 71, 'cbow': 15, 'model': 42, 'based': 10, 'on': 47, 'generated': 27, 'metapaths': 39, 'to': 64, 'study': 57, 'ppi': 50, 'predictions': 51, 'large': 35, 'amounts': 3, 'data': 19, 'for': 25, 'constructing': 17, 'primary': 53, 'moreover': 43, 'compared': 16, 'significant': 56, 'amount': 2, 'traditional': 66, 'machine': 38, 'learning': 37, 'algorithms': 0, 'such': 58, 'as': 7, 'these': 62, 'techniques': 60, 'lack': 34, 'capacity': 14, 'discovering': 21, 'hidden': 28, 'associations': 8, 'and': 5, 'extracting': 23, 'in': 29, 'unsupervised': 67, 'phase': 48, 'we': 68, 'integrate': 32, 'multi': 44, 'modality': 41, 'features': 24, 'learned': 36, 'from': 26, 'ofword': 46, 'which': 69, 'can': 13, 'be': 11, 'divided': 22, 'into': 33, 'three': 63, 'phases': 49, 'including': 30, 'preprocessing': 52, 'an': 4, 'supervised': 59}\n"
          ]
        }
      ]
    },
    {
      "cell_type": "code",
      "source": [
        "all_feature_names = TF_IDF_V.get_feature_names_out()\n",
        "all_feature_names"
      ],
      "metadata": {
        "id": "lpl3m51senwL",
        "colab": {
          "base_uri": "https://localhost:8080/"
        },
        "outputId": "a0948a97-fd9c-49a5-ce32-3d49856dcc41"
      },
      "execution_count": 5,
      "outputs": [
        {
          "output_type": "execute_result",
          "data": {
            "text/plain": [
              "array(['algorithms', 'also', 'amount', 'amounts', 'an', 'and',\n",
              "       'architecture', 'as', 'associations', 'bag', 'based', 'be', 'but',\n",
              "       'can', 'capacity', 'cbow', 'compared', 'constructing',\n",
              "       'continuous', 'data', 'discerns', 'discovering', 'divided',\n",
              "       'extracting', 'features', 'for', 'from', 'generated', 'hidden',\n",
              "       'in', 'including', 'information', 'integrate', 'into', 'lack',\n",
              "       'large', 'learned', 'learning', 'machine', 'metapaths', 'mind',\n",
              "       'modality', 'model', 'moreover', 'multi', 'of', 'ofword', 'on',\n",
              "       'phase', 'phases', 'ppi', 'predictions', 'preprocessing',\n",
              "       'primary', 'protein', 'sequence', 'significant', 'study', 'such',\n",
              "       'supervised', 'techniques', 'the', 'these', 'three', 'to',\n",
              "       'together', 'traditional', 'unsupervised', 'we', 'which', 'with',\n",
              "       'words'], dtype=object)"
            ]
          },
          "metadata": {},
          "execution_count": 5
        }
      ]
    },
    {
      "cell_type": "code",
      "source": [
        "for word in all_feature_names:\n",
        "  index = TF_IDF_V.vocabulary_.get(word)\n",
        "  List = TF_IDF_V.idf_[index]\n",
        "  print(List, \" | \", word)"
      ],
      "metadata": {
        "colab": {
          "base_uri": "https://localhost:8080/"
        },
        "id": "O93wqH5R2K-q",
        "outputId": "a16b9ba8-bcb7-48c2-8d50-8ce585908ac4"
      },
      "execution_count": 6,
      "outputs": [
        {
          "output_type": "stream",
          "name": "stdout",
          "text": [
            "2.504077396776274  |  algorithms\n",
            "2.504077396776274  |  also\n",
            "2.504077396776274  |  amount\n",
            "2.504077396776274  |  amounts\n",
            "2.504077396776274  |  an\n",
            "2.09861228866811  |  and\n",
            "2.504077396776274  |  architecture\n",
            "2.504077396776274  |  as\n",
            "2.504077396776274  |  associations\n",
            "2.09861228866811  |  bag\n",
            "2.504077396776274  |  based\n",
            "2.504077396776274  |  be\n",
            "2.504077396776274  |  but\n",
            "2.504077396776274  |  can\n",
            "2.504077396776274  |  capacity\n",
            "2.09861228866811  |  cbow\n",
            "2.504077396776274  |  compared\n",
            "2.504077396776274  |  constructing\n",
            "2.09861228866811  |  continuous\n",
            "2.504077396776274  |  data\n",
            "2.504077396776274  |  discerns\n",
            "2.504077396776274  |  discovering\n",
            "2.504077396776274  |  divided\n",
            "2.504077396776274  |  extracting\n",
            "2.504077396776274  |  features\n",
            "2.504077396776274  |  for\n",
            "2.504077396776274  |  from\n",
            "2.504077396776274  |  generated\n",
            "2.504077396776274  |  hidden\n",
            "2.504077396776274  |  in\n",
            "2.504077396776274  |  including\n",
            "2.504077396776274  |  information\n",
            "2.504077396776274  |  integrate\n",
            "2.504077396776274  |  into\n",
            "2.504077396776274  |  lack\n",
            "2.504077396776274  |  large\n",
            "2.504077396776274  |  learned\n",
            "1.587786664902119  |  learning\n",
            "2.09861228866811  |  machine\n",
            "2.504077396776274  |  metapaths\n",
            "2.504077396776274  |  mind\n",
            "2.504077396776274  |  modality\n",
            "2.504077396776274  |  model\n",
            "2.504077396776274  |  moreover\n",
            "2.504077396776274  |  multi\n",
            "1.8109302162163288  |  of\n",
            "2.504077396776274  |  ofword\n",
            "2.504077396776274  |  on\n",
            "2.09861228866811  |  phase\n",
            "2.504077396776274  |  phases\n",
            "2.504077396776274  |  ppi\n",
            "2.504077396776274  |  predictions\n",
            "2.504077396776274  |  preprocessing\n",
            "2.504077396776274  |  primary\n",
            "2.09861228866811  |  protein\n",
            "2.09861228866811  |  sequence\n",
            "2.504077396776274  |  significant\n",
            "2.504077396776274  |  study\n",
            "2.504077396776274  |  such\n",
            "2.504077396776274  |  supervised\n",
            "2.504077396776274  |  techniques\n",
            "1.4054651081081644  |  the\n",
            "2.504077396776274  |  these\n",
            "2.504077396776274  |  three\n",
            "2.504077396776274  |  to\n",
            "2.504077396776274  |  together\n",
            "2.09861228866811  |  traditional\n",
            "2.09861228866811  |  unsupervised\n",
            "2.504077396776274  |  we\n",
            "2.504077396776274  |  which\n",
            "2.09861228866811  |  with\n",
            "2.504077396776274  |  words\n"
          ]
        }
      ]
    },
    {
      "cell_type": "code",
      "source": [
        "List"
      ],
      "metadata": {
        "colab": {
          "base_uri": "https://localhost:8080/"
        },
        "id": "IN9ZZW_P2rJ0",
        "outputId": "b0e3eecd-41b3-43e5-f8eb-59d5574b67d3"
      },
      "execution_count": 7,
      "outputs": [
        {
          "output_type": "execute_result",
          "data": {
            "text/plain": [
              "2.504077396776274"
            ]
          },
          "metadata": {},
          "execution_count": 7
        }
      ]
    },
    {
      "cell_type": "code",
      "source": [
        "! pip install kaggle\n",
        "! mkdir ~/.kaggle\n",
        "! cp kaggle.json ~/.kaggle/\n",
        "! chmod 600 ~/.kaggle/kaggle.json\n"
      ],
      "metadata": {
        "colab": {
          "base_uri": "https://localhost:8080/"
        },
        "id": "VTyTchgBTS2W",
        "outputId": "a8b93dc5-8887-4832-f394-1a5c8b108a8d"
      },
      "execution_count": 6,
      "outputs": [
        {
          "output_type": "stream",
          "name": "stdout",
          "text": [
            "Looking in indexes: https://pypi.org/simple, https://us-python.pkg.dev/colab-wheels/public/simple/\n",
            "Requirement already satisfied: kaggle in /usr/local/lib/python3.8/dist-packages (1.5.12)\n",
            "Requirement already satisfied: six>=1.10 in /usr/local/lib/python3.8/dist-packages (from kaggle) (1.15.0)\n",
            "Requirement already satisfied: requests in /usr/local/lib/python3.8/dist-packages (from kaggle) (2.23.0)\n",
            "Requirement already satisfied: tqdm in /usr/local/lib/python3.8/dist-packages (from kaggle) (4.64.1)\n",
            "Requirement already satisfied: python-slugify in /usr/local/lib/python3.8/dist-packages (from kaggle) (7.0.0)\n",
            "Requirement already satisfied: certifi in /usr/local/lib/python3.8/dist-packages (from kaggle) (2022.9.24)\n",
            "Requirement already satisfied: urllib3 in /usr/local/lib/python3.8/dist-packages (from kaggle) (1.24.3)\n",
            "Requirement already satisfied: python-dateutil in /usr/local/lib/python3.8/dist-packages (from kaggle) (2.8.2)\n",
            "Requirement already satisfied: text-unidecode>=1.3 in /usr/local/lib/python3.8/dist-packages (from python-slugify->kaggle) (1.3)\n",
            "Requirement already satisfied: chardet<4,>=3.0.2 in /usr/local/lib/python3.8/dist-packages (from requests->kaggle) (3.0.4)\n",
            "Requirement already satisfied: idna<3,>=2.5 in /usr/local/lib/python3.8/dist-packages (from requests->kaggle) (2.10)\n",
            "mkdir: cannot create directory ‘/root/.kaggle’: File exists\n"
          ]
        }
      ]
    },
    {
      "cell_type": "code",
      "source": [
        "! kaggle datasets download saurabhshahane/ecommerce-text-classification"
      ],
      "metadata": {
        "colab": {
          "base_uri": "https://localhost:8080/"
        },
        "id": "C-XJF2GmURNf",
        "outputId": "92a724f2-97c8-4be8-f096-d2dde967255c"
      },
      "execution_count": 7,
      "outputs": [
        {
          "output_type": "stream",
          "name": "stdout",
          "text": [
            "Downloading ecommerce-text-classification.zip to /content\n",
            "\r  0% 0.00/7.86M [00:00<?, ?B/s]\r 64% 5.00M/7.86M [00:00<00:00, 40.8MB/s]\n",
            "\r100% 7.86M/7.86M [00:00<00:00, 59.4MB/s]\n"
          ]
        }
      ]
    },
    {
      "cell_type": "code",
      "source": [
        "! unzip ecommerce-text-classification"
      ],
      "metadata": {
        "colab": {
          "base_uri": "https://localhost:8080/"
        },
        "id": "FBV9bGUKUhi_",
        "outputId": "e9b2af86-0810-41a0-a5c3-fa2fe5c33cf6"
      },
      "execution_count": 8,
      "outputs": [
        {
          "output_type": "stream",
          "name": "stdout",
          "text": [
            "Archive:  ecommerce-text-classification.zip\n",
            "  inflating: ecommerceDataset.csv    \n"
          ]
        }
      ]
    },
    {
      "cell_type": "code",
      "source": [
        "df = pd.read_csv('/content/ecommerceDataset.csv')\n",
        "print(df.shape)\n",
        "df.head()"
      ],
      "metadata": {
        "colab": {
          "base_uri": "https://localhost:8080/",
          "height": 441
        },
        "id": "4t80wCGb6984",
        "outputId": "92fa2438-495e-410b-cc73-4eb19d14275d"
      },
      "execution_count": 9,
      "outputs": [
        {
          "output_type": "stream",
          "name": "stdout",
          "text": [
            "(50424, 2)\n"
          ]
        },
        {
          "output_type": "execute_result",
          "data": {
            "text/plain": [
              "   Household  \\\n",
              "0  Household   \n",
              "1  Household   \n",
              "2  Household   \n",
              "3  Household   \n",
              "4  Household   \n",
              "\n",
              "  Paper Plane Design Framed Wall Hanging Motivational Office Decor Art Prints (8.7 X 8.7 inch) - Set of 4 Painting made up in synthetic frame with uv textured print which gives multi effects and attracts towards it. This is an special series of paintings which makes your wall very beautiful and gives a royal touch. This painting is ready to hang, you would be proud to possess this unique painting that is a niche apart. We use only the most modern and efficient printing technology on our prints, with only the and inks and precision epson, roland and hp printers. This innovative hd printing technique results in durable and spectacular looking prints of the highest that last a lifetime. We print solely with top-notch 100% inks, to achieve brilliant and true colours. Due to their high level of uv resistance, our prints retain their beautiful colours for many years. Add colour and style to your living space with this digitally printed painting. Some are for pleasure and some for eternal bliss.so bring home this elegant print that is lushed with rich colors that makes it nothing but sheer elegance to be to your friends and family.it would be treasured forever by whoever your lucky recipient is. Liven up your place with these intriguing paintings that are high definition hd graphic digital prints for home, office or any room.  \n",
              "0  SAF 'Floral' Framed Painting (Wood, 30 inch x ...                                                                                                                                                                                                                                                                                                                                                                                                                                                                                                                                                                                                                                                                                                                                                                                                                                                                                                                                                                                                                                                                                                                                                                                                                                                                                                                                          \n",
              "1  SAF 'UV Textured Modern Art Print Framed' Pain...                                                                                                                                                                                                                                                                                                                                                                                                                                                                                                                                                                                                                                                                                                                                                                                                                                                                                                                                                                                                                                                                                                                                                                                                                                                                                                                                          \n",
              "2  SAF Flower Print Framed Painting (Synthetic, 1...                                                                                                                                                                                                                                                                                                                                                                                                                                                                                                                                                                                                                                                                                                                                                                                                                                                                                                                                                                                                                                                                                                                                                                                                                                                                                                                                          \n",
              "3  Incredible Gifts India Wooden Happy Birthday U...                                                                                                                                                                                                                                                                                                                                                                                                                                                                                                                                                                                                                                                                                                                                                                                                                                                                                                                                                                                                                                                                                                                                                                                                                                                                                                                                          \n",
              "4  Pitaara Box Romantic Venice Canvas Painting 6m...                                                                                                                                                                                                                                                                                                                                                                                                                                                                                                                                                                                                                                                                                                                                                                                                                                                                                                                                                                                                                                                                                                                                                                                                                                                                                                                                          "
            ],
            "text/html": [
              "\n",
              "  <div id=\"df-6c2672f9-e4b1-41c8-9343-869015e0d8ae\">\n",
              "    <div class=\"colab-df-container\">\n",
              "      <div>\n",
              "<style scoped>\n",
              "    .dataframe tbody tr th:only-of-type {\n",
              "        vertical-align: middle;\n",
              "    }\n",
              "\n",
              "    .dataframe tbody tr th {\n",
              "        vertical-align: top;\n",
              "    }\n",
              "\n",
              "    .dataframe thead th {\n",
              "        text-align: right;\n",
              "    }\n",
              "</style>\n",
              "<table border=\"1\" class=\"dataframe\">\n",
              "  <thead>\n",
              "    <tr style=\"text-align: right;\">\n",
              "      <th></th>\n",
              "      <th>Household</th>\n",
              "      <th>Paper Plane Design Framed Wall Hanging Motivational Office Decor Art Prints (8.7 X 8.7 inch) - Set of 4 Painting made up in synthetic frame with uv textured print which gives multi effects and attracts towards it. This is an special series of paintings which makes your wall very beautiful and gives a royal touch. This painting is ready to hang, you would be proud to possess this unique painting that is a niche apart. We use only the most modern and efficient printing technology on our prints, with only the and inks and precision epson, roland and hp printers. This innovative hd printing technique results in durable and spectacular looking prints of the highest that last a lifetime. We print solely with top-notch 100% inks, to achieve brilliant and true colours. Due to their high level of uv resistance, our prints retain their beautiful colours for many years. Add colour and style to your living space with this digitally printed painting. Some are for pleasure and some for eternal bliss.so bring home this elegant print that is lushed with rich colors that makes it nothing but sheer elegance to be to your friends and family.it would be treasured forever by whoever your lucky recipient is. Liven up your place with these intriguing paintings that are high definition hd graphic digital prints for home, office or any room.</th>\n",
              "    </tr>\n",
              "  </thead>\n",
              "  <tbody>\n",
              "    <tr>\n",
              "      <th>0</th>\n",
              "      <td>Household</td>\n",
              "      <td>SAF 'Floral' Framed Painting (Wood, 30 inch x ...</td>\n",
              "    </tr>\n",
              "    <tr>\n",
              "      <th>1</th>\n",
              "      <td>Household</td>\n",
              "      <td>SAF 'UV Textured Modern Art Print Framed' Pain...</td>\n",
              "    </tr>\n",
              "    <tr>\n",
              "      <th>2</th>\n",
              "      <td>Household</td>\n",
              "      <td>SAF Flower Print Framed Painting (Synthetic, 1...</td>\n",
              "    </tr>\n",
              "    <tr>\n",
              "      <th>3</th>\n",
              "      <td>Household</td>\n",
              "      <td>Incredible Gifts India Wooden Happy Birthday U...</td>\n",
              "    </tr>\n",
              "    <tr>\n",
              "      <th>4</th>\n",
              "      <td>Household</td>\n",
              "      <td>Pitaara Box Romantic Venice Canvas Painting 6m...</td>\n",
              "    </tr>\n",
              "  </tbody>\n",
              "</table>\n",
              "</div>\n",
              "      <button class=\"colab-df-convert\" onclick=\"convertToInteractive('df-6c2672f9-e4b1-41c8-9343-869015e0d8ae')\"\n",
              "              title=\"Convert this dataframe to an interactive table.\"\n",
              "              style=\"display:none;\">\n",
              "        \n",
              "  <svg xmlns=\"http://www.w3.org/2000/svg\" height=\"24px\"viewBox=\"0 0 24 24\"\n",
              "       width=\"24px\">\n",
              "    <path d=\"M0 0h24v24H0V0z\" fill=\"none\"/>\n",
              "    <path d=\"M18.56 5.44l.94 2.06.94-2.06 2.06-.94-2.06-.94-.94-2.06-.94 2.06-2.06.94zm-11 1L8.5 8.5l.94-2.06 2.06-.94-2.06-.94L8.5 2.5l-.94 2.06-2.06.94zm10 10l.94 2.06.94-2.06 2.06-.94-2.06-.94-.94-2.06-.94 2.06-2.06.94z\"/><path d=\"M17.41 7.96l-1.37-1.37c-.4-.4-.92-.59-1.43-.59-.52 0-1.04.2-1.43.59L10.3 9.45l-7.72 7.72c-.78.78-.78 2.05 0 2.83L4 21.41c.39.39.9.59 1.41.59.51 0 1.02-.2 1.41-.59l7.78-7.78 2.81-2.81c.8-.78.8-2.07 0-2.86zM5.41 20L4 18.59l7.72-7.72 1.47 1.35L5.41 20z\"/>\n",
              "  </svg>\n",
              "      </button>\n",
              "      \n",
              "  <style>\n",
              "    .colab-df-container {\n",
              "      display:flex;\n",
              "      flex-wrap:wrap;\n",
              "      gap: 12px;\n",
              "    }\n",
              "\n",
              "    .colab-df-convert {\n",
              "      background-color: #E8F0FE;\n",
              "      border: none;\n",
              "      border-radius: 50%;\n",
              "      cursor: pointer;\n",
              "      display: none;\n",
              "      fill: #1967D2;\n",
              "      height: 32px;\n",
              "      padding: 0 0 0 0;\n",
              "      width: 32px;\n",
              "    }\n",
              "\n",
              "    .colab-df-convert:hover {\n",
              "      background-color: #E2EBFA;\n",
              "      box-shadow: 0px 1px 2px rgba(60, 64, 67, 0.3), 0px 1px 3px 1px rgba(60, 64, 67, 0.15);\n",
              "      fill: #174EA6;\n",
              "    }\n",
              "\n",
              "    [theme=dark] .colab-df-convert {\n",
              "      background-color: #3B4455;\n",
              "      fill: #D2E3FC;\n",
              "    }\n",
              "\n",
              "    [theme=dark] .colab-df-convert:hover {\n",
              "      background-color: #434B5C;\n",
              "      box-shadow: 0px 1px 3px 1px rgba(0, 0, 0, 0.15);\n",
              "      filter: drop-shadow(0px 1px 2px rgba(0, 0, 0, 0.3));\n",
              "      fill: #FFFFFF;\n",
              "    }\n",
              "  </style>\n",
              "\n",
              "      <script>\n",
              "        const buttonEl =\n",
              "          document.querySelector('#df-6c2672f9-e4b1-41c8-9343-869015e0d8ae button.colab-df-convert');\n",
              "        buttonEl.style.display =\n",
              "          google.colab.kernel.accessAllowed ? 'block' : 'none';\n",
              "\n",
              "        async function convertToInteractive(key) {\n",
              "          const element = document.querySelector('#df-6c2672f9-e4b1-41c8-9343-869015e0d8ae');\n",
              "          const dataTable =\n",
              "            await google.colab.kernel.invokeFunction('convertToInteractive',\n",
              "                                                     [key], {});\n",
              "          if (!dataTable) return;\n",
              "\n",
              "          const docLinkHtml = 'Like what you see? Visit the ' +\n",
              "            '<a target=\"_blank\" href=https://colab.research.google.com/notebooks/data_table.ipynb>data table notebook</a>'\n",
              "            + ' to learn more about interactive tables.';\n",
              "          element.innerHTML = '';\n",
              "          dataTable['output_type'] = 'display_data';\n",
              "          await google.colab.output.renderOutput(dataTable, element);\n",
              "          const docLink = document.createElement('div');\n",
              "          docLink.innerHTML = docLinkHtml;\n",
              "          element.appendChild(docLink);\n",
              "        }\n",
              "      </script>\n",
              "    </div>\n",
              "  </div>\n",
              "  "
            ]
          },
          "metadata": {},
          "execution_count": 9
        }
      ]
    },
    {
      "cell_type": "code",
      "source": [
        "df.Household.value_counts()"
      ],
      "metadata": {
        "colab": {
          "base_uri": "https://localhost:8080/"
        },
        "id": "YF1e6oLEYtk-",
        "outputId": "ad4d5466-368f-4c96-8770-5b4eaec85d33"
      },
      "execution_count": 10,
      "outputs": [
        {
          "output_type": "execute_result",
          "data": {
            "text/plain": [
              "Household                 19312\n",
              "Books                     11820\n",
              "Electronics               10621\n",
              "Clothing & Accessories     8671\n",
              "Name: Household, dtype: int64"
            ]
          },
          "metadata": {},
          "execution_count": 10
        }
      ]
    },
    {
      "cell_type": "code",
      "source": [
        "df_Household=df[0:19311]\n",
        "df_Books=df[19312:31131]\n",
        "df_Electronics=df[31132:41752]\n",
        "df_Clothing=df[41753:50424]"
      ],
      "metadata": {
        "id": "7lhKkpn4-Ddg"
      },
      "execution_count": 23,
      "outputs": []
    },
    {
      "cell_type": "code",
      "source": [
        "Min = min(len(df_Clothing), len(df_Electronics), len(df_Books), len(df_Household))\n",
        "Min"
      ],
      "metadata": {
        "colab": {
          "base_uri": "https://localhost:8080/"
        },
        "id": "0qobE98iBKY5",
        "outputId": "2b92c780-bcb6-42bc-b7bb-b6ad1a39dea2"
      },
      "execution_count": 33,
      "outputs": [
        {
          "output_type": "execute_result",
          "data": {
            "text/plain": [
              "8671"
            ]
          },
          "metadata": {},
          "execution_count": 33
        }
      ]
    },
    {
      "cell_type": "code",
      "source": [
        "df_H = df_Household.sample(Min)\n",
        "df_B = df_Books.sample(Min)\n",
        "df_E = df_Electronics.sample(Min)\n",
        "df_C = df_Clothing.sample(Min)\n",
        "balanced_df = pd.concat([df_H, df_B, df_E, df_C], axis=0)"
      ],
      "metadata": {
        "id": "zdhA_sOXCe2C"
      },
      "execution_count": 49,
      "outputs": []
    },
    {
      "cell_type": "code",
      "source": [
        "balanced_df.Household.value_counts()"
      ],
      "metadata": {
        "colab": {
          "base_uri": "https://localhost:8080/"
        },
        "id": "pznzEEDDDhud",
        "outputId": "66b270ea-7427-485a-d8cc-0ed43b247ba1"
      },
      "execution_count": 50,
      "outputs": [
        {
          "output_type": "execute_result",
          "data": {
            "text/plain": [
              "Electronics               10268\n",
              "Household                  8671\n",
              "Books                      8671\n",
              "Clothing & Accessories     7074\n",
              "Name: Household, dtype: int64"
            ]
          },
          "metadata": {},
          "execution_count": 50
        }
      ]
    },
    {
      "cell_type": "code",
      "source": [
        "balanced_df['label_num'] = balanced_df.Household.map({\n",
        "    'Household' : 0,\n",
        "    'Books' : 1,\n",
        "    'Electronics' : 2,\n",
        "    'Clothing & Accessories' : 3,\n",
        "})\n",
        "balanced_df"
      ],
      "metadata": {
        "colab": {
          "base_uri": "https://localhost:8080/",
          "height": 658
        },
        "id": "X826u08WcIGp",
        "outputId": "6d888575-5b52-4683-c970-fb1a703663e4"
      },
      "execution_count": 52,
      "outputs": [
        {
          "output_type": "execute_result",
          "data": {
            "text/plain": [
              "         Household  \\\n",
              "14974    Household   \n",
              "13321    Household   \n",
              "18419    Household   \n",
              "13360    Household   \n",
              "4445     Household   \n",
              "...            ...   \n",
              "45116  Electronics   \n",
              "42251  Electronics   \n",
              "43584  Electronics   \n",
              "46104  Electronics   \n",
              "50238  Electronics   \n",
              "\n",
              "      Paper Plane Design Framed Wall Hanging Motivational Office Decor Art Prints (8.7 X 8.7 inch) - Set of 4 Painting made up in synthetic frame with uv textured print which gives multi effects and attracts towards it. This is an special series of paintings which makes your wall very beautiful and gives a royal touch. This painting is ready to hang, you would be proud to possess this unique painting that is a niche apart. We use only the most modern and efficient printing technology on our prints, with only the and inks and precision epson, roland and hp printers. This innovative hd printing technique results in durable and spectacular looking prints of the highest that last a lifetime. We print solely with top-notch 100% inks, to achieve brilliant and true colours. Due to their high level of uv resistance, our prints retain their beautiful colours for many years. Add colour and style to your living space with this digitally printed painting. Some are for pleasure and some for eternal bliss.so bring home this elegant print that is lushed with rich colors that makes it nothing but sheer elegance to be to your friends and family.it would be treasured forever by whoever your lucky recipient is. Liven up your place with these intriguing paintings that are high definition hd graphic digital prints for home, office or any room.  \\\n",
              "14974  Whirlpool 265 L 3 Star Frost Free Double Door ...                                                                                                                                                                                                                                                                                                                                                                                                                                                                                                                                                                                                                                                                                                                                                                                                                                                                                                                                                                                                                                                                                                                                                                                                                                                                                                                                           \n",
              "13321  Cuizen CST-1412B Retro Hot Dog Steamer, Red CS...                                                                                                                                                                                                                                                                                                                                                                                                                                                                                                                                                                                                                                                                                                                                                                                                                                                                                                                                                                                                                                                                                                                                                                                                                                                                                                                                           \n",
              "18419  RUATAM HANDICRAFTS Outdoor Knife with Cover fo...                                                                                                                                                                                                                                                                                                                                                                                                                                                                                                                                                                                                                                                                                                                                                                                                                                                                                                                                                                                                                                                                                                                                                                                                                                                                                                                                           \n",
              "13360  Prestige PIC 20 1200 Watt Induction Cooktop wi...                                                                                                                                                                                                                                                                                                                                                                                                                                                                                                                                                                                                                                                                                                                                                                                                                                                                                                                                                                                                                                                                                                                                                                                                                                                                                                                                           \n",
              "4445   Xtore 12pcs 3D Metallic Finish Home Decor Butt...                                                                                                                                                                                                                                                                                                                                                                                                                                                                                                                                                                                                                                                                                                                                                                                                                                                                                                                                                                                                                                                                                                                                                                                                                                                                                                                                           \n",
              "...                                                  ...                                                                                                                                                                                                                                                                                                                                                                                                                                                                                                                                                                                                                                                                                                                                                                                                                                                                                                                                                                                                                                                                                                                                                                                                                                                                                                                                           \n",
              "45116  iVoltaa 3.5mm Braided Aux (Auxiliary) Audio Ca...                                                                                                                                                                                                                                                                                                                                                                                                                                                                                                                                                                                                                                                                                                                                                                                                                                                                                                                                                                                                                                                                                                                                                                                                                                                                                                                                           \n",
              "42251  Casio MJ-120D Electronic Calculator Many diffe...                                                                                                                                                                                                                                                                                                                                                                                                                                                                                                                                                                                                                                                                                                                                                                                                                                                                                                                                                                                                                                                                                                                                                                                                                                                                                                                                           \n",
              "43584  HP 18.5 inch (46.9 cm) LED Monitor - HD, TN Pa...                                                                                                                                                                                                                                                                                                                                                                                                                                                                                                                                                                                                                                                                                                                                                                                                                                                                                                                                                                                                                                                                                                                                                                                                                                                                                                                                           \n",
              "46104  Fuji Instax Mini 8 Value Cam Instant Camera - ...                                                                                                                                                                                                                                                                                                                                                                                                                                                                                                                                                                                                                                                                                                                                                                                                                                                                                                                                                                                                                                                                                                                                                                                                                                                                                                                                           \n",
              "50238  HP Pavilion x360 Intel Core i7 8th Gen 14-inch...                                                                                                                                                                                                                                                                                                                                                                                                                                                                                                                                                                                                                                                                                                                                                                                                                                                                                                                                                                                                                                                                                                                                                                                                                                                                                                                                           \n",
              "\n",
              "       label_num  \n",
              "14974          0  \n",
              "13321          0  \n",
              "18419          0  \n",
              "13360          0  \n",
              "4445           0  \n",
              "...          ...  \n",
              "45116          2  \n",
              "42251          2  \n",
              "43584          2  \n",
              "46104          2  \n",
              "50238          2  \n",
              "\n",
              "[34684 rows x 3 columns]"
            ],
            "text/html": [
              "\n",
              "  <div id=\"df-8283eda8-9755-4c0e-9722-b431b65a0a16\">\n",
              "    <div class=\"colab-df-container\">\n",
              "      <div>\n",
              "<style scoped>\n",
              "    .dataframe tbody tr th:only-of-type {\n",
              "        vertical-align: middle;\n",
              "    }\n",
              "\n",
              "    .dataframe tbody tr th {\n",
              "        vertical-align: top;\n",
              "    }\n",
              "\n",
              "    .dataframe thead th {\n",
              "        text-align: right;\n",
              "    }\n",
              "</style>\n",
              "<table border=\"1\" class=\"dataframe\">\n",
              "  <thead>\n",
              "    <tr style=\"text-align: right;\">\n",
              "      <th></th>\n",
              "      <th>Household</th>\n",
              "      <th>Paper Plane Design Framed Wall Hanging Motivational Office Decor Art Prints (8.7 X 8.7 inch) - Set of 4 Painting made up in synthetic frame with uv textured print which gives multi effects and attracts towards it. This is an special series of paintings which makes your wall very beautiful and gives a royal touch. This painting is ready to hang, you would be proud to possess this unique painting that is a niche apart. We use only the most modern and efficient printing technology on our prints, with only the and inks and precision epson, roland and hp printers. This innovative hd printing technique results in durable and spectacular looking prints of the highest that last a lifetime. We print solely with top-notch 100% inks, to achieve brilliant and true colours. Due to their high level of uv resistance, our prints retain their beautiful colours for many years. Add colour and style to your living space with this digitally printed painting. Some are for pleasure and some for eternal bliss.so bring home this elegant print that is lushed with rich colors that makes it nothing but sheer elegance to be to your friends and family.it would be treasured forever by whoever your lucky recipient is. Liven up your place with these intriguing paintings that are high definition hd graphic digital prints for home, office or any room.</th>\n",
              "      <th>label_num</th>\n",
              "    </tr>\n",
              "  </thead>\n",
              "  <tbody>\n",
              "    <tr>\n",
              "      <th>14974</th>\n",
              "      <td>Household</td>\n",
              "      <td>Whirlpool 265 L 3 Star Frost Free Double Door ...</td>\n",
              "      <td>0</td>\n",
              "    </tr>\n",
              "    <tr>\n",
              "      <th>13321</th>\n",
              "      <td>Household</td>\n",
              "      <td>Cuizen CST-1412B Retro Hot Dog Steamer, Red CS...</td>\n",
              "      <td>0</td>\n",
              "    </tr>\n",
              "    <tr>\n",
              "      <th>18419</th>\n",
              "      <td>Household</td>\n",
              "      <td>RUATAM HANDICRAFTS Outdoor Knife with Cover fo...</td>\n",
              "      <td>0</td>\n",
              "    </tr>\n",
              "    <tr>\n",
              "      <th>13360</th>\n",
              "      <td>Household</td>\n",
              "      <td>Prestige PIC 20 1200 Watt Induction Cooktop wi...</td>\n",
              "      <td>0</td>\n",
              "    </tr>\n",
              "    <tr>\n",
              "      <th>4445</th>\n",
              "      <td>Household</td>\n",
              "      <td>Xtore 12pcs 3D Metallic Finish Home Decor Butt...</td>\n",
              "      <td>0</td>\n",
              "    </tr>\n",
              "    <tr>\n",
              "      <th>...</th>\n",
              "      <td>...</td>\n",
              "      <td>...</td>\n",
              "      <td>...</td>\n",
              "    </tr>\n",
              "    <tr>\n",
              "      <th>45116</th>\n",
              "      <td>Electronics</td>\n",
              "      <td>iVoltaa 3.5mm Braided Aux (Auxiliary) Audio Ca...</td>\n",
              "      <td>2</td>\n",
              "    </tr>\n",
              "    <tr>\n",
              "      <th>42251</th>\n",
              "      <td>Electronics</td>\n",
              "      <td>Casio MJ-120D Electronic Calculator Many diffe...</td>\n",
              "      <td>2</td>\n",
              "    </tr>\n",
              "    <tr>\n",
              "      <th>43584</th>\n",
              "      <td>Electronics</td>\n",
              "      <td>HP 18.5 inch (46.9 cm) LED Monitor - HD, TN Pa...</td>\n",
              "      <td>2</td>\n",
              "    </tr>\n",
              "    <tr>\n",
              "      <th>46104</th>\n",
              "      <td>Electronics</td>\n",
              "      <td>Fuji Instax Mini 8 Value Cam Instant Camera - ...</td>\n",
              "      <td>2</td>\n",
              "    </tr>\n",
              "    <tr>\n",
              "      <th>50238</th>\n",
              "      <td>Electronics</td>\n",
              "      <td>HP Pavilion x360 Intel Core i7 8th Gen 14-inch...</td>\n",
              "      <td>2</td>\n",
              "    </tr>\n",
              "  </tbody>\n",
              "</table>\n",
              "<p>34684 rows × 3 columns</p>\n",
              "</div>\n",
              "      <button class=\"colab-df-convert\" onclick=\"convertToInteractive('df-8283eda8-9755-4c0e-9722-b431b65a0a16')\"\n",
              "              title=\"Convert this dataframe to an interactive table.\"\n",
              "              style=\"display:none;\">\n",
              "        \n",
              "  <svg xmlns=\"http://www.w3.org/2000/svg\" height=\"24px\"viewBox=\"0 0 24 24\"\n",
              "       width=\"24px\">\n",
              "    <path d=\"M0 0h24v24H0V0z\" fill=\"none\"/>\n",
              "    <path d=\"M18.56 5.44l.94 2.06.94-2.06 2.06-.94-2.06-.94-.94-2.06-.94 2.06-2.06.94zm-11 1L8.5 8.5l.94-2.06 2.06-.94-2.06-.94L8.5 2.5l-.94 2.06-2.06.94zm10 10l.94 2.06.94-2.06 2.06-.94-2.06-.94-.94-2.06-.94 2.06-2.06.94z\"/><path d=\"M17.41 7.96l-1.37-1.37c-.4-.4-.92-.59-1.43-.59-.52 0-1.04.2-1.43.59L10.3 9.45l-7.72 7.72c-.78.78-.78 2.05 0 2.83L4 21.41c.39.39.9.59 1.41.59.51 0 1.02-.2 1.41-.59l7.78-7.78 2.81-2.81c.8-.78.8-2.07 0-2.86zM5.41 20L4 18.59l7.72-7.72 1.47 1.35L5.41 20z\"/>\n",
              "  </svg>\n",
              "      </button>\n",
              "      \n",
              "  <style>\n",
              "    .colab-df-container {\n",
              "      display:flex;\n",
              "      flex-wrap:wrap;\n",
              "      gap: 12px;\n",
              "    }\n",
              "\n",
              "    .colab-df-convert {\n",
              "      background-color: #E8F0FE;\n",
              "      border: none;\n",
              "      border-radius: 50%;\n",
              "      cursor: pointer;\n",
              "      display: none;\n",
              "      fill: #1967D2;\n",
              "      height: 32px;\n",
              "      padding: 0 0 0 0;\n",
              "      width: 32px;\n",
              "    }\n",
              "\n",
              "    .colab-df-convert:hover {\n",
              "      background-color: #E2EBFA;\n",
              "      box-shadow: 0px 1px 2px rgba(60, 64, 67, 0.3), 0px 1px 3px 1px rgba(60, 64, 67, 0.15);\n",
              "      fill: #174EA6;\n",
              "    }\n",
              "\n",
              "    [theme=dark] .colab-df-convert {\n",
              "      background-color: #3B4455;\n",
              "      fill: #D2E3FC;\n",
              "    }\n",
              "\n",
              "    [theme=dark] .colab-df-convert:hover {\n",
              "      background-color: #434B5C;\n",
              "      box-shadow: 0px 1px 3px 1px rgba(0, 0, 0, 0.15);\n",
              "      filter: drop-shadow(0px 1px 2px rgba(0, 0, 0, 0.3));\n",
              "      fill: #FFFFFF;\n",
              "    }\n",
              "  </style>\n",
              "\n",
              "      <script>\n",
              "        const buttonEl =\n",
              "          document.querySelector('#df-8283eda8-9755-4c0e-9722-b431b65a0a16 button.colab-df-convert');\n",
              "        buttonEl.style.display =\n",
              "          google.colab.kernel.accessAllowed ? 'block' : 'none';\n",
              "\n",
              "        async function convertToInteractive(key) {\n",
              "          const element = document.querySelector('#df-8283eda8-9755-4c0e-9722-b431b65a0a16');\n",
              "          const dataTable =\n",
              "            await google.colab.kernel.invokeFunction('convertToInteractive',\n",
              "                                                     [key], {});\n",
              "          if (!dataTable) return;\n",
              "\n",
              "          const docLinkHtml = 'Like what you see? Visit the ' +\n",
              "            '<a target=\"_blank\" href=https://colab.research.google.com/notebooks/data_table.ipynb>data table notebook</a>'\n",
              "            + ' to learn more about interactive tables.';\n",
              "          element.innerHTML = '';\n",
              "          dataTable['output_type'] = 'display_data';\n",
              "          await google.colab.output.renderOutput(dataTable, element);\n",
              "          const docLink = document.createElement('div');\n",
              "          docLink.innerHTML = docLinkHtml;\n",
              "          element.appendChild(docLink);\n",
              "        }\n",
              "      </script>\n",
              "    </div>\n",
              "  </div>\n",
              "  "
            ]
          },
          "metadata": {},
          "execution_count": 52
        }
      ]
    },
    {
      "cell_type": "code",
      "source": [
        "df1 = balanced_df.sample(frac = 1)\n",
        "df1"
      ],
      "metadata": {
        "colab": {
          "base_uri": "https://localhost:8080/",
          "height": 728
        },
        "id": "5EebMYcWdVFX",
        "outputId": "6e0cd224-044f-4750-ecb5-6016d5f974cb"
      },
      "execution_count": 53,
      "outputs": [
        {
          "output_type": "execute_result",
          "data": {
            "text/plain": [
              "                    Household  \\\n",
              "23219                   Books   \n",
              "27019                   Books   \n",
              "36914  Clothing & Accessories   \n",
              "40588             Electronics   \n",
              "32185  Clothing & Accessories   \n",
              "...                       ...   \n",
              "26030                   Books   \n",
              "2817                Household   \n",
              "32338  Clothing & Accessories   \n",
              "40592             Electronics   \n",
              "45497             Electronics   \n",
              "\n",
              "      Paper Plane Design Framed Wall Hanging Motivational Office Decor Art Prints (8.7 X 8.7 inch) - Set of 4 Painting made up in synthetic frame with uv textured print which gives multi effects and attracts towards it. This is an special series of paintings which makes your wall very beautiful and gives a royal touch. This painting is ready to hang, you would be proud to possess this unique painting that is a niche apart. We use only the most modern and efficient printing technology on our prints, with only the and inks and precision epson, roland and hp printers. This innovative hd printing technique results in durable and spectacular looking prints of the highest that last a lifetime. We print solely with top-notch 100% inks, to achieve brilliant and true colours. Due to their high level of uv resistance, our prints retain their beautiful colours for many years. Add colour and style to your living space with this digitally printed painting. Some are for pleasure and some for eternal bliss.so bring home this elegant print that is lushed with rich colors that makes it nothing but sheer elegance to be to your friends and family.it would be treasured forever by whoever your lucky recipient is. Liven up your place with these intriguing paintings that are high definition hd graphic digital prints for home, office or any room.  \\\n",
              "23219  The Stranger: Includes an Interview with Exist...                                                                                                                                                                                                                                                                                                                                                                                                                                                                                                                                                                                                                                                                                                                                                                                                                                                                                                                                                                                                                                                                                                                                                                                                                                                                                                                                           \n",
              "27019  Design Patterns CD: Elements of Reusable Objec...                                                                                                                                                                                                                                                                                                                                                                                                                                                                                                                                                                                                                                                                                                                                                                                                                                                                                                                                                                                                                                                                                                                                                                                                                                                                                                                                           \n",
              "36914  Mpitude Coral Extreme Micro Bikini Set Lingeri...                                                                                                                                                                                                                                                                                                                                                                                                                                                                                                                                                                                                                                                                                                                                                                                                                                                                                                                                                                                                                                                                                                                                                                                                                                                                                                                                           \n",
              "40588  FARRAIGE 3 Port USB 2.0 Hub + All in One Combo...                                                                                                                                                                                                                                                                                                                                                                                                                                                                                                                                                                                                                                                                                                                                                                                                                                                                                                                                                                                                                                                                                                                                                                                                                                                                                                                                           \n",
              "32185  Kiddeo Girl's Cotton T-Shirts - Pack of 5 Kids...                                                                                                                                                                                                                                                                                                                                                                                                                                                                                                                                                                                                                                                                                                                                                                                                                                                                                                                                                                                                                                                                                                                                                                                                                                                                                                                                           \n",
              "...                                                  ...                                                                                                                                                                                                                                                                                                                                                                                                                                                                                                                                                                                                                                                                                                                                                                                                                                                                                                                                                                                                                                                                                                                                                                                                                                                                                                                                           \n",
              "26030  Cost Accounting and Management Essentials You ...                                                                                                                                                                                                                                                                                                                                                                                                                                                                                                                                                                                                                                                                                                                                                                                                                                                                                                                                                                                                                                                                                                                                                                                                                                                                                                                                           \n",
              "2817   Spacecrafts Wooden Folding Computer Table Mate...                                                                                                                                                                                                                                                                                                                                                                                                                                                                                                                                                                                                                                                                                                                                                                                                                                                                                                                                                                                                                                                                                                                                                                                                                                                                                                                                           \n",
              "32338  BODYCARE Pure Cotton Multi-Coloured Brief for ...                                                                                                                                                                                                                                                                                                                                                                                                                                                                                                                                                                                                                                                                                                                                                                                                                                                                                                                                                                                                                                                                                                                                                                                                                                                                                                                                           \n",
              "40592  Cables Cloud™ 4-Port USB Stand Organizer Charg...                                                                                                                                                                                                                                                                                                                                                                                                                                                                                                                                                                                                                                                                                                                                                                                                                                                                                                                                                                                                                                                                                                                                                                                                                                                                                                                                           \n",
              "45497  AST Works Folding Card Lens Focus Calibration ...                                                                                                                                                                                                                                                                                                                                                                                                                                                                                                                                                                                                                                                                                                                                                                                                                                                                                                                                                                                                                                                                                                                                                                                                                                                                                                                                           \n",
              "\n",
              "       label_num  \n",
              "23219          1  \n",
              "27019          1  \n",
              "36914          3  \n",
              "40588          2  \n",
              "32185          3  \n",
              "...          ...  \n",
              "26030          1  \n",
              "2817           0  \n",
              "32338          3  \n",
              "40592          2  \n",
              "45497          2  \n",
              "\n",
              "[34684 rows x 3 columns]"
            ],
            "text/html": [
              "\n",
              "  <div id=\"df-c8239044-feec-40ee-b2dc-65339972333e\">\n",
              "    <div class=\"colab-df-container\">\n",
              "      <div>\n",
              "<style scoped>\n",
              "    .dataframe tbody tr th:only-of-type {\n",
              "        vertical-align: middle;\n",
              "    }\n",
              "\n",
              "    .dataframe tbody tr th {\n",
              "        vertical-align: top;\n",
              "    }\n",
              "\n",
              "    .dataframe thead th {\n",
              "        text-align: right;\n",
              "    }\n",
              "</style>\n",
              "<table border=\"1\" class=\"dataframe\">\n",
              "  <thead>\n",
              "    <tr style=\"text-align: right;\">\n",
              "      <th></th>\n",
              "      <th>Household</th>\n",
              "      <th>Paper Plane Design Framed Wall Hanging Motivational Office Decor Art Prints (8.7 X 8.7 inch) - Set of 4 Painting made up in synthetic frame with uv textured print which gives multi effects and attracts towards it. This is an special series of paintings which makes your wall very beautiful and gives a royal touch. This painting is ready to hang, you would be proud to possess this unique painting that is a niche apart. We use only the most modern and efficient printing technology on our prints, with only the and inks and precision epson, roland and hp printers. This innovative hd printing technique results in durable and spectacular looking prints of the highest that last a lifetime. We print solely with top-notch 100% inks, to achieve brilliant and true colours. Due to their high level of uv resistance, our prints retain their beautiful colours for many years. Add colour and style to your living space with this digitally printed painting. Some are for pleasure and some for eternal bliss.so bring home this elegant print that is lushed with rich colors that makes it nothing but sheer elegance to be to your friends and family.it would be treasured forever by whoever your lucky recipient is. Liven up your place with these intriguing paintings that are high definition hd graphic digital prints for home, office or any room.</th>\n",
              "      <th>label_num</th>\n",
              "    </tr>\n",
              "  </thead>\n",
              "  <tbody>\n",
              "    <tr>\n",
              "      <th>23219</th>\n",
              "      <td>Books</td>\n",
              "      <td>The Stranger: Includes an Interview with Exist...</td>\n",
              "      <td>1</td>\n",
              "    </tr>\n",
              "    <tr>\n",
              "      <th>27019</th>\n",
              "      <td>Books</td>\n",
              "      <td>Design Patterns CD: Elements of Reusable Objec...</td>\n",
              "      <td>1</td>\n",
              "    </tr>\n",
              "    <tr>\n",
              "      <th>36914</th>\n",
              "      <td>Clothing &amp; Accessories</td>\n",
              "      <td>Mpitude Coral Extreme Micro Bikini Set Lingeri...</td>\n",
              "      <td>3</td>\n",
              "    </tr>\n",
              "    <tr>\n",
              "      <th>40588</th>\n",
              "      <td>Electronics</td>\n",
              "      <td>FARRAIGE 3 Port USB 2.0 Hub + All in One Combo...</td>\n",
              "      <td>2</td>\n",
              "    </tr>\n",
              "    <tr>\n",
              "      <th>32185</th>\n",
              "      <td>Clothing &amp; Accessories</td>\n",
              "      <td>Kiddeo Girl's Cotton T-Shirts - Pack of 5 Kids...</td>\n",
              "      <td>3</td>\n",
              "    </tr>\n",
              "    <tr>\n",
              "      <th>...</th>\n",
              "      <td>...</td>\n",
              "      <td>...</td>\n",
              "      <td>...</td>\n",
              "    </tr>\n",
              "    <tr>\n",
              "      <th>26030</th>\n",
              "      <td>Books</td>\n",
              "      <td>Cost Accounting and Management Essentials You ...</td>\n",
              "      <td>1</td>\n",
              "    </tr>\n",
              "    <tr>\n",
              "      <th>2817</th>\n",
              "      <td>Household</td>\n",
              "      <td>Spacecrafts Wooden Folding Computer Table Mate...</td>\n",
              "      <td>0</td>\n",
              "    </tr>\n",
              "    <tr>\n",
              "      <th>32338</th>\n",
              "      <td>Clothing &amp; Accessories</td>\n",
              "      <td>BODYCARE Pure Cotton Multi-Coloured Brief for ...</td>\n",
              "      <td>3</td>\n",
              "    </tr>\n",
              "    <tr>\n",
              "      <th>40592</th>\n",
              "      <td>Electronics</td>\n",
              "      <td>Cables Cloud™ 4-Port USB Stand Organizer Charg...</td>\n",
              "      <td>2</td>\n",
              "    </tr>\n",
              "    <tr>\n",
              "      <th>45497</th>\n",
              "      <td>Electronics</td>\n",
              "      <td>AST Works Folding Card Lens Focus Calibration ...</td>\n",
              "      <td>2</td>\n",
              "    </tr>\n",
              "  </tbody>\n",
              "</table>\n",
              "<p>34684 rows × 3 columns</p>\n",
              "</div>\n",
              "      <button class=\"colab-df-convert\" onclick=\"convertToInteractive('df-c8239044-feec-40ee-b2dc-65339972333e')\"\n",
              "              title=\"Convert this dataframe to an interactive table.\"\n",
              "              style=\"display:none;\">\n",
              "        \n",
              "  <svg xmlns=\"http://www.w3.org/2000/svg\" height=\"24px\"viewBox=\"0 0 24 24\"\n",
              "       width=\"24px\">\n",
              "    <path d=\"M0 0h24v24H0V0z\" fill=\"none\"/>\n",
              "    <path d=\"M18.56 5.44l.94 2.06.94-2.06 2.06-.94-2.06-.94-.94-2.06-.94 2.06-2.06.94zm-11 1L8.5 8.5l.94-2.06 2.06-.94-2.06-.94L8.5 2.5l-.94 2.06-2.06.94zm10 10l.94 2.06.94-2.06 2.06-.94-2.06-.94-.94-2.06-.94 2.06-2.06.94z\"/><path d=\"M17.41 7.96l-1.37-1.37c-.4-.4-.92-.59-1.43-.59-.52 0-1.04.2-1.43.59L10.3 9.45l-7.72 7.72c-.78.78-.78 2.05 0 2.83L4 21.41c.39.39.9.59 1.41.59.51 0 1.02-.2 1.41-.59l7.78-7.78 2.81-2.81c.8-.78.8-2.07 0-2.86zM5.41 20L4 18.59l7.72-7.72 1.47 1.35L5.41 20z\"/>\n",
              "  </svg>\n",
              "      </button>\n",
              "      \n",
              "  <style>\n",
              "    .colab-df-container {\n",
              "      display:flex;\n",
              "      flex-wrap:wrap;\n",
              "      gap: 12px;\n",
              "    }\n",
              "\n",
              "    .colab-df-convert {\n",
              "      background-color: #E8F0FE;\n",
              "      border: none;\n",
              "      border-radius: 50%;\n",
              "      cursor: pointer;\n",
              "      display: none;\n",
              "      fill: #1967D2;\n",
              "      height: 32px;\n",
              "      padding: 0 0 0 0;\n",
              "      width: 32px;\n",
              "    }\n",
              "\n",
              "    .colab-df-convert:hover {\n",
              "      background-color: #E2EBFA;\n",
              "      box-shadow: 0px 1px 2px rgba(60, 64, 67, 0.3), 0px 1px 3px 1px rgba(60, 64, 67, 0.15);\n",
              "      fill: #174EA6;\n",
              "    }\n",
              "\n",
              "    [theme=dark] .colab-df-convert {\n",
              "      background-color: #3B4455;\n",
              "      fill: #D2E3FC;\n",
              "    }\n",
              "\n",
              "    [theme=dark] .colab-df-convert:hover {\n",
              "      background-color: #434B5C;\n",
              "      box-shadow: 0px 1px 3px 1px rgba(0, 0, 0, 0.15);\n",
              "      filter: drop-shadow(0px 1px 2px rgba(0, 0, 0, 0.3));\n",
              "      fill: #FFFFFF;\n",
              "    }\n",
              "  </style>\n",
              "\n",
              "      <script>\n",
              "        const buttonEl =\n",
              "          document.querySelector('#df-c8239044-feec-40ee-b2dc-65339972333e button.colab-df-convert');\n",
              "        buttonEl.style.display =\n",
              "          google.colab.kernel.accessAllowed ? 'block' : 'none';\n",
              "\n",
              "        async function convertToInteractive(key) {\n",
              "          const element = document.querySelector('#df-c8239044-feec-40ee-b2dc-65339972333e');\n",
              "          const dataTable =\n",
              "            await google.colab.kernel.invokeFunction('convertToInteractive',\n",
              "                                                     [key], {});\n",
              "          if (!dataTable) return;\n",
              "\n",
              "          const docLinkHtml = 'Like what you see? Visit the ' +\n",
              "            '<a target=\"_blank\" href=https://colab.research.google.com/notebooks/data_table.ipynb>data table notebook</a>'\n",
              "            + ' to learn more about interactive tables.';\n",
              "          element.innerHTML = '';\n",
              "          dataTable['output_type'] = 'display_data';\n",
              "          await google.colab.output.renderOutput(dataTable, element);\n",
              "          const docLink = document.createElement('div');\n",
              "          docLink.innerHTML = docLinkHtml;\n",
              "          element.appendChild(docLink);\n",
              "        }\n",
              "      </script>\n",
              "    </div>\n",
              "  </div>\n",
              "  "
            ]
          },
          "metadata": {},
          "execution_count": 53
        }
      ]
    },
    {
      "cell_type": "code",
      "source": [
        "df1=df1.rename(columns={\"Paper Plane Design Framed Wall Hanging Motivational Office Decor Art Prints (8.7 X 8.7 inch) - Set of 4 Painting made up in synthetic frame with uv textured print which gives multi effects and attracts towards it. This is an special series of paintings which makes your wall very beautiful and gives a royal touch. This painting is ready to hang, you would be proud to possess this unique painting that is a niche apart. We use only the most modern and efficient printing technology on our prints, with only the and inks and precision epson, roland and hp printers. This innovative hd printing technique results in durable and spectacular looking prints of the highest that last a lifetime. We print solely with top-notch 100% inks, to achieve brilliant and true colours. Due to their high level of uv resistance, our prints retain their beautiful colours for many years. Add colour and style to your living space with this digitally printed painting. Some are for pleasure and some for eternal bliss.so bring home this elegant print that is lushed with rich colors that makes it nothing but sheer elegance to be to your friends and family.it would be treasured forever by whoever your lucky recipient is. Liven up your place with these intriguing paintings that are high definition hd graphic digital prints for home, office or any room.\":\"text\"})"
      ],
      "metadata": {
        "id": "zBqDFmTyejBX"
      },
      "execution_count": 64,
      "outputs": []
    },
    {
      "cell_type": "code",
      "source": [
        "df1"
      ],
      "metadata": {
        "colab": {
          "base_uri": "https://localhost:8080/",
          "height": 424
        },
        "id": "qKmq_Kc6Hulc",
        "outputId": "c87be029-9a81-4a38-ecc9-97e1d99dda37"
      },
      "execution_count": 65,
      "outputs": [
        {
          "output_type": "execute_result",
          "data": {
            "text/plain": [
              "                    Household  \\\n",
              "23219                   Books   \n",
              "27019                   Books   \n",
              "36914  Clothing & Accessories   \n",
              "40588             Electronics   \n",
              "32185  Clothing & Accessories   \n",
              "...                       ...   \n",
              "26030                   Books   \n",
              "2817                Household   \n",
              "32338  Clothing & Accessories   \n",
              "40592             Electronics   \n",
              "45497             Electronics   \n",
              "\n",
              "                                                    text  label_num  \n",
              "23219  The Stranger: Includes an Interview with Exist...          1  \n",
              "27019  Design Patterns CD: Elements of Reusable Objec...          1  \n",
              "36914  Mpitude Coral Extreme Micro Bikini Set Lingeri...          3  \n",
              "40588  FARRAIGE 3 Port USB 2.0 Hub + All in One Combo...          2  \n",
              "32185  Kiddeo Girl's Cotton T-Shirts - Pack of 5 Kids...          3  \n",
              "...                                                  ...        ...  \n",
              "26030  Cost Accounting and Management Essentials You ...          1  \n",
              "2817   Spacecrafts Wooden Folding Computer Table Mate...          0  \n",
              "32338  BODYCARE Pure Cotton Multi-Coloured Brief for ...          3  \n",
              "40592  Cables Cloud™ 4-Port USB Stand Organizer Charg...          2  \n",
              "45497  AST Works Folding Card Lens Focus Calibration ...          2  \n",
              "\n",
              "[34684 rows x 3 columns]"
            ],
            "text/html": [
              "\n",
              "  <div id=\"df-ea88016c-3c2f-4eae-8833-1af6e175af92\">\n",
              "    <div class=\"colab-df-container\">\n",
              "      <div>\n",
              "<style scoped>\n",
              "    .dataframe tbody tr th:only-of-type {\n",
              "        vertical-align: middle;\n",
              "    }\n",
              "\n",
              "    .dataframe tbody tr th {\n",
              "        vertical-align: top;\n",
              "    }\n",
              "\n",
              "    .dataframe thead th {\n",
              "        text-align: right;\n",
              "    }\n",
              "</style>\n",
              "<table border=\"1\" class=\"dataframe\">\n",
              "  <thead>\n",
              "    <tr style=\"text-align: right;\">\n",
              "      <th></th>\n",
              "      <th>Household</th>\n",
              "      <th>text</th>\n",
              "      <th>label_num</th>\n",
              "    </tr>\n",
              "  </thead>\n",
              "  <tbody>\n",
              "    <tr>\n",
              "      <th>23219</th>\n",
              "      <td>Books</td>\n",
              "      <td>The Stranger: Includes an Interview with Exist...</td>\n",
              "      <td>1</td>\n",
              "    </tr>\n",
              "    <tr>\n",
              "      <th>27019</th>\n",
              "      <td>Books</td>\n",
              "      <td>Design Patterns CD: Elements of Reusable Objec...</td>\n",
              "      <td>1</td>\n",
              "    </tr>\n",
              "    <tr>\n",
              "      <th>36914</th>\n",
              "      <td>Clothing &amp; Accessories</td>\n",
              "      <td>Mpitude Coral Extreme Micro Bikini Set Lingeri...</td>\n",
              "      <td>3</td>\n",
              "    </tr>\n",
              "    <tr>\n",
              "      <th>40588</th>\n",
              "      <td>Electronics</td>\n",
              "      <td>FARRAIGE 3 Port USB 2.0 Hub + All in One Combo...</td>\n",
              "      <td>2</td>\n",
              "    </tr>\n",
              "    <tr>\n",
              "      <th>32185</th>\n",
              "      <td>Clothing &amp; Accessories</td>\n",
              "      <td>Kiddeo Girl's Cotton T-Shirts - Pack of 5 Kids...</td>\n",
              "      <td>3</td>\n",
              "    </tr>\n",
              "    <tr>\n",
              "      <th>...</th>\n",
              "      <td>...</td>\n",
              "      <td>...</td>\n",
              "      <td>...</td>\n",
              "    </tr>\n",
              "    <tr>\n",
              "      <th>26030</th>\n",
              "      <td>Books</td>\n",
              "      <td>Cost Accounting and Management Essentials You ...</td>\n",
              "      <td>1</td>\n",
              "    </tr>\n",
              "    <tr>\n",
              "      <th>2817</th>\n",
              "      <td>Household</td>\n",
              "      <td>Spacecrafts Wooden Folding Computer Table Mate...</td>\n",
              "      <td>0</td>\n",
              "    </tr>\n",
              "    <tr>\n",
              "      <th>32338</th>\n",
              "      <td>Clothing &amp; Accessories</td>\n",
              "      <td>BODYCARE Pure Cotton Multi-Coloured Brief for ...</td>\n",
              "      <td>3</td>\n",
              "    </tr>\n",
              "    <tr>\n",
              "      <th>40592</th>\n",
              "      <td>Electronics</td>\n",
              "      <td>Cables Cloud™ 4-Port USB Stand Organizer Charg...</td>\n",
              "      <td>2</td>\n",
              "    </tr>\n",
              "    <tr>\n",
              "      <th>45497</th>\n",
              "      <td>Electronics</td>\n",
              "      <td>AST Works Folding Card Lens Focus Calibration ...</td>\n",
              "      <td>2</td>\n",
              "    </tr>\n",
              "  </tbody>\n",
              "</table>\n",
              "<p>34684 rows × 3 columns</p>\n",
              "</div>\n",
              "      <button class=\"colab-df-convert\" onclick=\"convertToInteractive('df-ea88016c-3c2f-4eae-8833-1af6e175af92')\"\n",
              "              title=\"Convert this dataframe to an interactive table.\"\n",
              "              style=\"display:none;\">\n",
              "        \n",
              "  <svg xmlns=\"http://www.w3.org/2000/svg\" height=\"24px\"viewBox=\"0 0 24 24\"\n",
              "       width=\"24px\">\n",
              "    <path d=\"M0 0h24v24H0V0z\" fill=\"none\"/>\n",
              "    <path d=\"M18.56 5.44l.94 2.06.94-2.06 2.06-.94-2.06-.94-.94-2.06-.94 2.06-2.06.94zm-11 1L8.5 8.5l.94-2.06 2.06-.94-2.06-.94L8.5 2.5l-.94 2.06-2.06.94zm10 10l.94 2.06.94-2.06 2.06-.94-2.06-.94-.94-2.06-.94 2.06-2.06.94z\"/><path d=\"M17.41 7.96l-1.37-1.37c-.4-.4-.92-.59-1.43-.59-.52 0-1.04.2-1.43.59L10.3 9.45l-7.72 7.72c-.78.78-.78 2.05 0 2.83L4 21.41c.39.39.9.59 1.41.59.51 0 1.02-.2 1.41-.59l7.78-7.78 2.81-2.81c.8-.78.8-2.07 0-2.86zM5.41 20L4 18.59l7.72-7.72 1.47 1.35L5.41 20z\"/>\n",
              "  </svg>\n",
              "      </button>\n",
              "      \n",
              "  <style>\n",
              "    .colab-df-container {\n",
              "      display:flex;\n",
              "      flex-wrap:wrap;\n",
              "      gap: 12px;\n",
              "    }\n",
              "\n",
              "    .colab-df-convert {\n",
              "      background-color: #E8F0FE;\n",
              "      border: none;\n",
              "      border-radius: 50%;\n",
              "      cursor: pointer;\n",
              "      display: none;\n",
              "      fill: #1967D2;\n",
              "      height: 32px;\n",
              "      padding: 0 0 0 0;\n",
              "      width: 32px;\n",
              "    }\n",
              "\n",
              "    .colab-df-convert:hover {\n",
              "      background-color: #E2EBFA;\n",
              "      box-shadow: 0px 1px 2px rgba(60, 64, 67, 0.3), 0px 1px 3px 1px rgba(60, 64, 67, 0.15);\n",
              "      fill: #174EA6;\n",
              "    }\n",
              "\n",
              "    [theme=dark] .colab-df-convert {\n",
              "      background-color: #3B4455;\n",
              "      fill: #D2E3FC;\n",
              "    }\n",
              "\n",
              "    [theme=dark] .colab-df-convert:hover {\n",
              "      background-color: #434B5C;\n",
              "      box-shadow: 0px 1px 3px 1px rgba(0, 0, 0, 0.15);\n",
              "      filter: drop-shadow(0px 1px 2px rgba(0, 0, 0, 0.3));\n",
              "      fill: #FFFFFF;\n",
              "    }\n",
              "  </style>\n",
              "\n",
              "      <script>\n",
              "        const buttonEl =\n",
              "          document.querySelector('#df-ea88016c-3c2f-4eae-8833-1af6e175af92 button.colab-df-convert');\n",
              "        buttonEl.style.display =\n",
              "          google.colab.kernel.accessAllowed ? 'block' : 'none';\n",
              "\n",
              "        async function convertToInteractive(key) {\n",
              "          const element = document.querySelector('#df-ea88016c-3c2f-4eae-8833-1af6e175af92');\n",
              "          const dataTable =\n",
              "            await google.colab.kernel.invokeFunction('convertToInteractive',\n",
              "                                                     [key], {});\n",
              "          if (!dataTable) return;\n",
              "\n",
              "          const docLinkHtml = 'Like what you see? Visit the ' +\n",
              "            '<a target=\"_blank\" href=https://colab.research.google.com/notebooks/data_table.ipynb>data table notebook</a>'\n",
              "            + ' to learn more about interactive tables.';\n",
              "          element.innerHTML = '';\n",
              "          dataTable['output_type'] = 'display_data';\n",
              "          await google.colab.output.renderOutput(dataTable, element);\n",
              "          const docLink = document.createElement('div');\n",
              "          docLink.innerHTML = docLinkHtml;\n",
              "          element.appendChild(docLink);\n",
              "        }\n",
              "      </script>\n",
              "    </div>\n",
              "  </div>\n",
              "  "
            ]
          },
          "metadata": {},
          "execution_count": 65
        }
      ]
    },
    {
      "cell_type": "code",
      "source": [
        "x_train, x_test, y_train, y_test = train_test_split(df1.text, df1.label_num, test_size=0.2, random_state=1000, stratify=df1.label_num)"
      ],
      "metadata": {
        "id": "bFdXQ_RoGqrL"
      },
      "execution_count": 66,
      "outputs": []
    },
    {
      "cell_type": "code",
      "source": [
        "knn = Pipeline([\n",
        "    ('vectorizer_tfidf',TfidfVectorizer()),\n",
        "    ('KNN',KNeighborsClassifier()),\n",
        "])"
      ],
      "metadata": {
        "id": "D147SJo6H8oo"
      },
      "execution_count": 73,
      "outputs": []
    },
    {
      "cell_type": "code",
      "source": [
        "knn.fit(x_train, y_train)"
      ],
      "metadata": {
        "colab": {
          "base_uri": "https://localhost:8080/"
        },
        "id": "l1yTDlJsJ7mk",
        "outputId": "aa9619a7-7e43-40b9-f3fd-d5472dd5c422"
      },
      "execution_count": 78,
      "outputs": [
        {
          "output_type": "execute_result",
          "data": {
            "text/plain": [
              "Pipeline(steps=[('vectorizer_tfidf', TfidfVectorizer()),\n",
              "                ('KNN', KNeighborsClassifier())])"
            ]
          },
          "metadata": {},
          "execution_count": 78
        }
      ]
    },
    {
      "cell_type": "code",
      "source": [
        "y_pred = knn.predict(x_test)\n",
        "print(classification_report(y_test, y_pred))"
      ],
      "metadata": {
        "colab": {
          "base_uri": "https://localhost:8080/"
        },
        "id": "dAUttAqrKmBC",
        "outputId": "882e4372-9db3-437e-8e66-c89ca366e190"
      },
      "execution_count": 79,
      "outputs": [
        {
          "output_type": "stream",
          "name": "stdout",
          "text": [
            "              precision    recall  f1-score   support\n",
            "\n",
            "           0       0.93      0.94      0.94      1734\n",
            "           1       0.97      0.95      0.96      1734\n",
            "           2       0.96      0.96      0.96      2054\n",
            "           3       0.97      0.98      0.97      1415\n",
            "\n",
            "    accuracy                           0.96      6937\n",
            "   macro avg       0.96      0.96      0.96      6937\n",
            "weighted avg       0.96      0.96      0.96      6937\n",
            "\n"
          ]
        }
      ]
    },
    {
      "cell_type": "code",
      "source": [
        "RF = Pipeline([\n",
        "    ('vectorizer_tfidf',TfidfVectorizer()),\n",
        "    ('Random Forest',RandomForestClassifier()),\n",
        "])"
      ],
      "metadata": {
        "id": "lsBOyIgfOxR8"
      },
      "execution_count": 83,
      "outputs": []
    },
    {
      "cell_type": "code",
      "source": [
        "RF.fit(x_train,y_train)"
      ],
      "metadata": {
        "colab": {
          "base_uri": "https://localhost:8080/"
        },
        "id": "OoOcPV8VO9Wh",
        "outputId": "6a092021-c754-4052-d5d8-d6e2aa56a9bf"
      },
      "execution_count": 84,
      "outputs": [
        {
          "output_type": "execute_result",
          "data": {
            "text/plain": [
              "Pipeline(steps=[('vectorizer_tfidf', TfidfVectorizer()),\n",
              "                ('Random Forest', RandomForestClassifier())])"
            ]
          },
          "metadata": {},
          "execution_count": 84
        }
      ]
    },
    {
      "cell_type": "code",
      "source": [
        "y_pred = RF.predict(x_test)\n",
        "print(classification_report(y_test, y_pred))"
      ],
      "metadata": {
        "colab": {
          "base_uri": "https://localhost:8080/"
        },
        "id": "pDzQZbipPE5s",
        "outputId": "17aa15db-e3dc-403b-bec6-2c8598f40ca2"
      },
      "execution_count": 85,
      "outputs": [
        {
          "output_type": "stream",
          "name": "stdout",
          "text": [
            "              precision    recall  f1-score   support\n",
            "\n",
            "           0       0.93      0.95      0.94      1734\n",
            "           1       0.96      0.97      0.96      1734\n",
            "           2       0.98      0.96      0.97      2054\n",
            "           3       0.98      0.97      0.98      1415\n",
            "\n",
            "    accuracy                           0.96      6937\n",
            "   macro avg       0.96      0.96      0.96      6937\n",
            "weighted avg       0.96      0.96      0.96      6937\n",
            "\n"
          ]
        }
      ]
    }
  ]
}